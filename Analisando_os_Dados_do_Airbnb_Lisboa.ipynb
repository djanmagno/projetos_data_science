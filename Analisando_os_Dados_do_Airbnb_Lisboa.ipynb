{
  "nbformat": 4,
  "nbformat_minor": 0,
  "metadata": {
    "colab": {
      "name": "Analisando_os_Dados_do_Airbnb_Lisboa.ipynb",
      "provenance": [],
      "collapsed_sections": []
    },
    "kernelspec": {
      "name": "python3",
      "display_name": "Python 3"
    }
  },
  "cells": [
    {
      "cell_type": "markdown",
      "metadata": {
        "id": "kLI0gJtzDGuQ"
      },
      "source": [
        "<img alt=\"Lisbon wallpaper\" widht = 200 src=\"https://www.lisboa.pt/fileadmin/_common/espacos/castelo_sao_jorge.jpg\">\n",
        "\n",
        "#### **Data Science na Prática**\n",
        "*by [Djan Magno](https://www.linkedin.com/in/djan-de-alcantara-magno-698a8a106/)*\n",
        "\n",
        "---\n",
        "\n",
        "# Análise dos Dados do Airbnb - *Lisboa*\n",
        "\n",
        "O [Airbnb](https://www.airbnb.com.br/) já é considerado como sendo a **maior empresa hoteleira da atualidade**. Ah, o detalhe é que ele **não possui nenhum hotel**!\n",
        "\n",
        "Conectando pessoas que querem viajar (e se hospedar) com anfitriões que querem alugar seus imóveis de maneira prática, o Airbnb fornece uma plataforma inovadora para tornar essa hospedagem alternativa.\n",
        "\n",
        "No final de 2018, a Startup fundada 10 anos atrás, já havia **hospedado mais de 300 milhões** de pessoas ao redor de todo o mundo, desafiando as redes hoteleiras tradicionais.\n",
        "\n",
        "Uma das iniciativas do Airbnb é disponibilizar dados do site, para algumas das principais cidades do mundo. Por meio do portal [Inside Airbnb](http://insideairbnb.com/get-the-data.html), é possível baixar uma grande quantidade de dados para desenvolver projetos e soluções de *Data Science*.\n",
        "\n",
        "<center><img alt=\"Analisando Airbnb\" width=\"10%\" src=\"https://www.area360.com.au/wp-content/uploads/2017/09/airbnb-logo.jpg\"></center>\n",
        "\n",
        "**Neste *notebook*, iremos analisar os dados referentes à cidade Lisboa, e ver quais insights podem ser extraídos a partir de dados brutos.**\n",
        "\n",
        "---\n",
        "\n",
        "## Lisboa\n",
        "\n",
        "Lisboa é a capital de Portugal e polo de uma região multifacetada que apela a diferentes gostos e sentidos.\n",
        "\n",
        "Esta cidade litorânea foi recebendo muitas e diferentes culturas vindas de longínquos lugares ao longo do tempo, ainda hoje é possível sentir um respirar antigo em cada rua e bairros históricos ali presentes. Podemos caminhar junto a quadrícula de ruas da ***Baixa pombalina*** que se inicia próxima ao ***Rio Tejo*** (um dos mais famosos e conhecidos Rios em Portugal) na ***Praça do Comércio*** e, seguindo o rio, conhecer alguns dos lugares mais bonitos da cidade: a zona monumental de ***Belém*** com monumentos do Patrimônio Mundial, bairros medievais, diversos polos gastronômicos com seus espetaculares ***Pastéis de Belém*** e também zonas de lazer mais recentes ou contemporâneas, como o ***Parque das Nações*** ou as ***Docas***.\n",
        "\n",
        "<center><img alt=\"Monumento do Descobrimento\" width=\"500%\" src=\"https://www.way-away.es/media/img/way-away22531.jpg\"></center>\n",
        "<i>Monumento do Descobrimento - Patrimônio Mundial (Belém)</i>\n",
        "\n",
        "Sua proximidade ao Mar Mediterrâneo, traz a Lisboa um clima ameno e agradável em relação a outros centros europeus. Esta, entre outras razões vêm trrasnformando a capital potuguesa em um destino turístico muito concorrido. O aumento do número de visitantes à capital portuguesa é bem visível nas ruas da cidade. Com este aumento tão significativo de pessoas que procuram Lisboa, cresceu a necessidade de oferecer opções de alojamento e de melhorar a mobilidade urbana, nomeadamente para segmentos mais jovens de população.\n",
        "\n",
        "Em 2016, o prefeito da capital Portuguesa, Fernando Medina, deu um grande passo no incentivo ao uso do Airbnb em sua cidade. Indo em contramão de centros como Berlim e Barcelona que restringiam ou mesmo proibiam o aluguel de curta temporada, Fernando viu o Airbnb como uma oportunidade para formentar o mercado imobiliário lisboano através do turismo. Dois anos após sair de uma grande crise financeira e com 12% de sua população ativa *desempregada*, a capital ibérica precisava de visitantes e o turismo desempenhava um papel importante na recuperação do país. Muitos prédios abandonados passaram a ser reformados e viraram acomodaçôes estilosas para os turistas. Medidas do governo local como flexibilizar o controle de aluguel e promover leilões de prédios vazios têm ajudado a sustentar um renascimento da cidade.\n",
        "\n",
        "Lisboa passou a exigir que todos os anfitriões registrem seus imóveis como disponíveis para alugueis de curta duração e permite que essas propriedades sejam alugadas por um número ilimitado de noites. O número de noites passadas por estrangeiros na cidade conhecida pelos seus bondes amarelos e ruas de paralelepípedo aumentou *21%* em março daquele ano em relação ao mesmo mês do ano anterior. A lista de ofertas do Aibrnb na região metropolitana de Lisboa como um todo praticamente triplicou de tamanho desde janeiro de 2014. Esse boom está transformando os donos de imóveis em verdadeiros hoteleiros e concierges, e enchendo os cofres públicos com a taxa de 15% cobrada a cada reserva feita pelo website.\n",
        "\n",
        "<center><img src=\"https://www.keviagem.com/wp-content/uploads/2017/02/LX-Factory-001.jpg\" width=\"210\" height=\"210\"/><img src=\"https://www.keviagem.com/wp-content/uploads/2017/02/LX-Factory.jpg\" width=\"210\"/> <img src=\"https://www.keviagem.com/wp-content/uploads/2017/02/LX-Factory-007.jpg\" width=\"210\" height=\"210\"/></center>\n",
        "<i>LX Factory - Ocupa uma zona industrial abandonada, que foi transformada em uma área criativa, cultural e gastronômica em prédios de fábricas restaurados</i>\n",
        "\n",
        "Em pouco tempo, Portugal se tornou um dos líderes na Europa quando o assunto era a regulação da economia compartilhada. Segundo o relações públicas do Airbnb para Espanha e Portugal, Andreu Castellano, convencer outras cidades a seguirem Lisboa seria crucial para o sucesso do Airbnb na Europa naquela época.\n",
        "\n",
        "Apesar da aparente boa relação de Portugal com o Airbnb, a crise do Corona vírus pode ter afetado diretamente o marketshare do site de alugéis no país Lusitano. Com a quarentena e o isolamento social, o mercado de estadias de curta duração, dominado pelo Airbnb, não voltará aos níveis pré-pandemia tão cedo, se é que alguma vez voltará. Nas cidades turísticas, não se sabe o destino de apartamentos que anteriormente eram usados por viajantes. Com isso, em Lisboa, há um plano para ocupar imóveis vagos que consiste em um programa para incentivar proprietários de imóveis utilizados para estadias curtas a colocá-los no mercado de arrendamento de longo prazo.\n",
        "\n",
        "Os proprietários que aderirem ao programa de arrendamento não estarão aptos alugar os seus imóveis a inquilinos individuais, mas sim à própria cidade, ou seja, os proprietários que temem que os seus apartamentos fiquem vazios podem inscrevê-los para arrendamento pelo município, por um período mínimo de cinco anos. A autoridade municipal iré se encarregar em encontrar inquilinos através do programa habitacional para jovens e famílias de baixos rendimentos. O valor máximo dos arrendamentos mensais é de 450 euros para uma casa com um quarto e 1.000 euros para uma casa mais espaçosa. Para os proprietários, a renda gerada com esses arrendamentos fixos pode ser inferior ao que obteriam com o aluguel a turistas.\n",
        "\n",
        "Estas questões só serão resolvidas quando a crise acabar. Com criação da vacina do Corona vírus e ainda a quantidade de áreas disponíveis para renovação em Lisboa pode fazer com que os números reduzidos de agora volte a patamares anteriores ou parecido como anteriormente, mas isso é questão de tempo.\n",
        "\n",
        "De uma maneira ou de outra Lisboa, continua sendo uma grande cidade para turismo e essa análise pode ajudar você a tomar sua decisão na hora de escolher um apartamento / casa para alugar nesta maravilhosa cidade lusitana.\n",
        "\n",
        "*Vamos conhecer o Airbnb de Lisboa através dos Dados...*\n",
        "\n",
        "<img src=\"https://conteudo.imguol.com.br/c/entretenimento/21/2020/07/10/portugal-1594397591494_v2_900x506.jpg\"/>\n",
        "\n",
        "**Este Texto contém informações contidas no texto do [Jornal Gazeta do Povo](https://www.gazetadopovo.com.br/vida-e-cidadania/futuro-das-cidades/lisboa-vai-na-contramao-de-berlim-e-barcelona-e-se-abre-para-o-airbnb-9wm9sngsx34nxrecyxoqgxchu/) de 14/06/2016 e [Bloomberg](https://www.bloomberg.com/news/articles/2020-07-08/lisbon-s-plan-to-reclaim-vacation-rentals-for-housing) de 12/07/2020.*\n",
        "\n",
        "\n",
        "\n",
        "\n"
      ]
    },
    {
      "cell_type": "markdown",
      "metadata": {
        "id": "0zxQHhIUDF_2"
      },
      "source": [
        "## Obtenção dos Dados\n",
        "\n",
        "Os Dados obtidos para este estudo foram retirados do site [Inside Airbnb](http://insideairbnb.com/get-the-data.html).\n",
        "\n",
        "Inicialmente para esta análise exploratória, utilizaremos somente o seguinte arquivo:\n",
        "\n",
        "* `listings.csv` - *Summary information and metrics for listings in Lisbon (good for visualisations).*\n"
      ]
    },
    {
      "cell_type": "code",
      "metadata": {
        "id": "Vhp2wMPgJ6zX",
        "colab": {
          "base_uri": "https://localhost:8080/"
        },
        "outputId": "75b22066-f68d-4ffe-c298-661e69770984"
      },
      "source": [
        "# importando os módulos necessarios para as análises\n",
        "\n",
        "# Módulo para manipulação e análise de dados contidos no Dataset.\n",
        "import pandas as pd\n",
        "\n",
        "# Módulo de Funções Matemáticas\n",
        "import numpy as np\n",
        "\n",
        "# Módulos para visualização\n",
        "import matplotlib.pyplot as plt\n",
        "%matplotlib inline\n",
        "import seaborn as sns\n",
        "print('Setup Completo')"
      ],
      "execution_count": 38,
      "outputs": [
        {
          "output_type": "stream",
          "text": [
            "Setup Completo\n"
          ],
          "name": "stdout"
        }
      ]
    },
    {
      "cell_type": "code",
      "metadata": {
        "id": "tUmoAT8DLQ5T"
      },
      "source": [
        "# importar o arquivo listings.csv para um DataFrame\n",
        "df = pd.read_csv('http://data.insideairbnb.com/portugal/lisbon/lisbon/2020-12-20/visualisations/listings.csv')"
      ],
      "execution_count": 39,
      "outputs": []
    },
    {
      "cell_type": "markdown",
      "metadata": {
        "id": "qb5By2nIMS6m"
      },
      "source": [
        "## Análise dos Dados\n",
        "\n",
        "Esta etapa tem como objetivo nos fornecer inicialmente um panorama situacional do nosso dataset bem como um entendimento estrutural dos dados nele presente.\n"
      ]
    },
    {
      "cell_type": "markdown",
      "metadata": {
        "id": "RYgvuebKNg8-"
      },
      "source": [
        "**Dicionário das variáveis**\n",
        "\n",
        "* `id` - Número do Id gereado para identificar o imóvel\n",
        "* `name` - Nome da Propriedade Anunciada\n",
        "* `host_id` - Número do id do proprietário (anfitrião) da Propriedade\n",
        "* `host_name` - Nome do Anfitrião\n",
        "* `neighbourhood_group` - Esta coluna não contém nenhum valor válido\n",
        "* `neighbourhood` - Nome do Bairro onde se encontra o imóvel\n",
        "* `latitude` - Coordenada da Latitude da Propriedade\n",
        "* `longitude` - Coordenada da Longitude da Propriedade\n",
        "* `room_type` - Informa o tipo de quarto que é oferecido pelo Anfitrião\n",
        "* `price` - Preço de Aluguel do Imóvel (Diária)\n",
        "* `minimum_nights` - Quantidade mínima d noites oferecida pelo anfitrião para reserva\n",
        "* `number_of_reviews` - Número de reviews que a propriedade recebeu até da data de download do dataset\n",
        "* `last_review` - Data do Último review recebida pela propriedade\n",
        "* `reviews_per_month` - Quantidade de reviews por mês\n",
        "* `calculated_host_listings_count` - Quantidade de imóveis do mesmo Anfitrião\n",
        "* `availability_365` - Número de dias de disponibilidade em um período de um ano (365 dias)\n",
        "\n",
        "Antes de iniciar qualquer análise, devemos ter uma primeira vista do nosso *dataset*, analisando as 5 primeiras entradas."
      ]
    },
    {
      "cell_type": "code",
      "metadata": {
        "id": "2iS_dae7YQtO",
        "colab": {
          "base_uri": "https://localhost:8080/",
          "height": 496
        },
        "outputId": "6c521697-9597-489a-9dab-b7712932ca4a"
      },
      "source": [
        "# mostrando as 5 primeiras linhas do nosso dataset\n",
        "df.head()"
      ],
      "execution_count": 40,
      "outputs": [
        {
          "output_type": "execute_result",
          "data": {
            "text/html": [
              "<div>\n",
              "<style scoped>\n",
              "    .dataframe tbody tr th:only-of-type {\n",
              "        vertical-align: middle;\n",
              "    }\n",
              "\n",
              "    .dataframe tbody tr th {\n",
              "        vertical-align: top;\n",
              "    }\n",
              "\n",
              "    .dataframe thead th {\n",
              "        text-align: right;\n",
              "    }\n",
              "</style>\n",
              "<table border=\"1\" class=\"dataframe\">\n",
              "  <thead>\n",
              "    <tr style=\"text-align: right;\">\n",
              "      <th></th>\n",
              "      <th>id</th>\n",
              "      <th>name</th>\n",
              "      <th>host_id</th>\n",
              "      <th>host_name</th>\n",
              "      <th>neighbourhood_group</th>\n",
              "      <th>neighbourhood</th>\n",
              "      <th>latitude</th>\n",
              "      <th>longitude</th>\n",
              "      <th>room_type</th>\n",
              "      <th>price</th>\n",
              "      <th>minimum_nights</th>\n",
              "      <th>number_of_reviews</th>\n",
              "      <th>last_review</th>\n",
              "      <th>reviews_per_month</th>\n",
              "      <th>calculated_host_listings_count</th>\n",
              "      <th>availability_365</th>\n",
              "    </tr>\n",
              "  </thead>\n",
              "  <tbody>\n",
              "    <tr>\n",
              "      <th>0</th>\n",
              "      <td>6499</td>\n",
              "      <td>Belém 1 Bedroom Historical Apartment</td>\n",
              "      <td>14455</td>\n",
              "      <td>Bruno</td>\n",
              "      <td>Lisboa</td>\n",
              "      <td>Belm</td>\n",
              "      <td>38.69750</td>\n",
              "      <td>-9.19768</td>\n",
              "      <td>Entire home/apt</td>\n",
              "      <td>79</td>\n",
              "      <td>3</td>\n",
              "      <td>26</td>\n",
              "      <td>2020-01-03</td>\n",
              "      <td>0.34</td>\n",
              "      <td>1</td>\n",
              "      <td>355</td>\n",
              "    </tr>\n",
              "    <tr>\n",
              "      <th>1</th>\n",
              "      <td>25659</td>\n",
              "      <td>Heart of Alfama  - Coeur d'Alfama - Lisbon Center</td>\n",
              "      <td>107347</td>\n",
              "      <td>Ellie</td>\n",
              "      <td>Lisboa</td>\n",
              "      <td>Santa Maria Maior</td>\n",
              "      <td>38.71167</td>\n",
              "      <td>-9.12696</td>\n",
              "      <td>Entire home/apt</td>\n",
              "      <td>50</td>\n",
              "      <td>3</td>\n",
              "      <td>113</td>\n",
              "      <td>2019-12-08</td>\n",
              "      <td>1.39</td>\n",
              "      <td>1</td>\n",
              "      <td>363</td>\n",
              "    </tr>\n",
              "    <tr>\n",
              "      <th>2</th>\n",
              "      <td>29248</td>\n",
              "      <td>Apartamento Alfama com vista para o rio!</td>\n",
              "      <td>125768</td>\n",
              "      <td>Bárbara</td>\n",
              "      <td>Lisboa</td>\n",
              "      <td>Santa Maria Maior</td>\n",
              "      <td>38.71272</td>\n",
              "      <td>-9.12628</td>\n",
              "      <td>Entire home/apt</td>\n",
              "      <td>42</td>\n",
              "      <td>3</td>\n",
              "      <td>324</td>\n",
              "      <td>2020-11-01</td>\n",
              "      <td>2.67</td>\n",
              "      <td>1</td>\n",
              "      <td>348</td>\n",
              "    </tr>\n",
              "    <tr>\n",
              "      <th>3</th>\n",
              "      <td>29396</td>\n",
              "      <td>Alfama Hill - Boutique apartment</td>\n",
              "      <td>126415</td>\n",
              "      <td>Mónica</td>\n",
              "      <td>Lisboa</td>\n",
              "      <td>Santa Maria Maior</td>\n",
              "      <td>38.71156</td>\n",
              "      <td>-9.12987</td>\n",
              "      <td>Entire home/apt</td>\n",
              "      <td>36</td>\n",
              "      <td>2</td>\n",
              "      <td>260</td>\n",
              "      <td>2020-12-14</td>\n",
              "      <td>2.49</td>\n",
              "      <td>2</td>\n",
              "      <td>327</td>\n",
              "    </tr>\n",
              "    <tr>\n",
              "      <th>4</th>\n",
              "      <td>29915</td>\n",
              "      <td>Modern and Cool Apartment in Lisboa</td>\n",
              "      <td>128890</td>\n",
              "      <td>Sara</td>\n",
              "      <td>Lisboa</td>\n",
              "      <td>Avenidas Novas</td>\n",
              "      <td>38.74712</td>\n",
              "      <td>-9.15286</td>\n",
              "      <td>Entire home/apt</td>\n",
              "      <td>48</td>\n",
              "      <td>5</td>\n",
              "      <td>39</td>\n",
              "      <td>2020-12-17</td>\n",
              "      <td>0.31</td>\n",
              "      <td>1</td>\n",
              "      <td>270</td>\n",
              "    </tr>\n",
              "  </tbody>\n",
              "</table>\n",
              "</div>"
            ],
            "text/plain": [
              "      id  ... availability_365\n",
              "0   6499  ...              355\n",
              "1  25659  ...              363\n",
              "2  29248  ...              348\n",
              "3  29396  ...              327\n",
              "4  29915  ...              270\n",
              "\n",
              "[5 rows x 16 columns]"
            ]
          },
          "metadata": {
            "tags": []
          },
          "execution_count": 40
        }
      ]
    },
    {
      "cell_type": "markdown",
      "metadata": {
        "id": "6-B_qtEaYEd-"
      },
      "source": [
        "### **Q1. Quantos atributos (variáveis) e quantas entradas o nosso conjunto de dados possui? Quais os tipos das variáveis?**\n",
        "\n",
        "Vamos identificar a quantidade de entradas que o nosso conjunto de dados possui bem como o tipo de cada coluna.\n",
        "\n",
        "Obs.: Este dataset (`listing.csv`) é uma versão resumida fornecida no site [Inside Airbnb](http://insideairbnb.com/get-the-data.html). Na mesma página é possível encontrar o arquivo completo que possui 35847 entradas e 106 variáveis (`listings.csv.gz`)."
      ]
    },
    {
      "cell_type": "code",
      "metadata": {
        "id": "TFRK0tniLV-G",
        "colab": {
          "base_uri": "https://localhost:8080/",
          "height": 425
        },
        "outputId": "814ecc59-4224-4ce8-c519-3c763c612be3"
      },
      "source": [
        "# identificando a quantidade de dados do DataFrame\n",
        "print('\\033[1;30mQuantidade de Dados no Dataframe\\033[0;30m\\n')\n",
        "print(f'Entradas:\\t {df.shape[0]}')\n",
        "print(f'Variáveis:\\t {df.shape[1]}\\n')\n",
        "\n",
        "# verificando o tipo de cada variável presente no dataset\n",
        "print('\\033[1;30mTipo Primitivo de Cada Coluna do nosso Dataframe\\033[0;30m\\n')\n",
        "display(df.dtypes)"
      ],
      "execution_count": 41,
      "outputs": [
        {
          "output_type": "stream",
          "text": [
            "\u001b[1;30mQuantidade de Dados no Dataframe\u001b[0;30m\n",
            "\n",
            "Entradas:\t 20141\n",
            "Variáveis:\t 16\n",
            "\n",
            "\u001b[1;30mTipo Primitivo de Cada Coluna do nosso Dataframe\u001b[0;30m\n",
            "\n"
          ],
          "name": "stdout"
        },
        {
          "output_type": "display_data",
          "data": {
            "text/plain": [
              "id                                  int64\n",
              "name                               object\n",
              "host_id                             int64\n",
              "host_name                          object\n",
              "neighbourhood_group                object\n",
              "neighbourhood                      object\n",
              "latitude                          float64\n",
              "longitude                         float64\n",
              "room_type                          object\n",
              "price                               int64\n",
              "minimum_nights                      int64\n",
              "number_of_reviews                   int64\n",
              "last_review                        object\n",
              "reviews_per_month                 float64\n",
              "calculated_host_listings_count      int64\n",
              "availability_365                    int64\n",
              "dtype: object"
            ]
          },
          "metadata": {
            "tags": []
          }
        }
      ]
    },
    {
      "cell_type": "markdown",
      "metadata": {
        "id": "yz1urSUGW9iE"
      },
      "source": [
        "### **Q2. Qual a porcentagem de valores ausentes no *dataset*?**\n",
        "\n",
        "A qualidade de conjunto de dados está diretamente relacionada à quantidade de valores ausentes. É de suma importância entender se estes valores ausentes possuem alguma importância significativa quando comparado ao total de entradas.\n",
        "\n",
        "* As colunas `reviews_per_month` e `last_review` possuem cerca de 17% dos seus dados ausentes.\n",
        "* A coluna  `name` têm aproximadamente 0.05 % de valores faltantes.\n",
        "* Em um total de 322256 valores, apenas 2.18% de todo Dataset encontra-se nulo."
      ]
    },
    {
      "cell_type": "code",
      "metadata": {
        "id": "plk2FjbCXOqP",
        "colab": {
          "base_uri": "https://localhost:8080/"
        },
        "outputId": "d7ad7261-6da2-4889-acd9-a2c2060839e1"
      },
      "source": [
        "# Quantidade de valores ausentes ordem decrescente em relação suas respectivas variáveis\n",
        "print(f'\\033[1;30mPorcentagem de Dados Ausentes por Coluna\\033[0;30m\\n')\n",
        "missing_per_column = (df.isnull().sum() / df.shape[0]).sort_values(ascending=False)\n",
        "print(round(100 * missing_per_column, 2))\n",
        "\n",
        "print(f'\\n\\033[1;30mPorcentagem de Dados Ausentes em todo Dataset\\033[0;30m\\n')\n",
        "total_cells = np.product(df.shape)\n",
        "total_missing = df.isnull().sum().sum()\n",
        "percent_missing = round((total_missing/total_cells) * 100, 2)\n",
        "print(f'{percent_missing} %')"
      ],
      "execution_count": 42,
      "outputs": [
        {
          "output_type": "stream",
          "text": [
            "\u001b[1;30mPorcentagem de Dados Ausentes por Coluna\u001b[0;30m\n",
            "\n",
            "reviews_per_month                 17.45\n",
            "last_review                       17.45\n",
            "name                               0.05\n",
            "host_name                          0.00\n",
            "availability_365                   0.00\n",
            "calculated_host_listings_count     0.00\n",
            "number_of_reviews                  0.00\n",
            "minimum_nights                     0.00\n",
            "price                              0.00\n",
            "room_type                          0.00\n",
            "longitude                          0.00\n",
            "latitude                           0.00\n",
            "neighbourhood                      0.00\n",
            "neighbourhood_group                0.00\n",
            "host_id                            0.00\n",
            "id                                 0.00\n",
            "dtype: float64\n",
            "\n",
            "\u001b[1;30mPorcentagem de Dados Ausentes em todo Dataset\u001b[0;30m\n",
            "\n",
            "2.18 %\n"
          ],
          "name": "stdout"
        }
      ]
    },
    {
      "cell_type": "code",
      "metadata": {
        "colab": {
          "base_uri": "https://localhost:8080/"
        },
        "id": "-ECai1y31s82",
        "outputId": "9c2b41bf-a68c-431b-9333-0d8e1ab27658"
      },
      "source": [
        "# Contando a quantidade de Dados faltantes nas colunas name, reviews_per_month e last_review\n",
        "print(f'\\033[1;30mQuantidade de Dados Ausentes na Coluna name\\033[0;30m\\n')\n",
        "print(f'{df.loc[pd.isna(df.name)].shape[0]} valores ausentes.')\n",
        "print(f'\\n\\033[1;30mQuantidade de Dados Ausentes na Coluna reviews_per_month\\033[0;30m\\n')\n",
        "print(f'{df.loc[pd.isna(df.reviews_per_month)].shape[0]} valores ausentes.')\n",
        "print(f'\\n\\033[1;30mQuantidade de Dados Ausentes na Coluna last_review\\033[0;30m\\n')\n",
        "print(f'{df.loc[pd.isna(df.last_review)].shape[0]} valores ausentes.')"
      ],
      "execution_count": 55,
      "outputs": [
        {
          "output_type": "stream",
          "text": [
            "\u001b[1;30mQuantidade de Dados Ausentes na Coluna name\u001b[0;30m\n",
            "\n",
            "10 valores ausentes.\n",
            "\n",
            "\u001b[1;30mQuantidade de Dados Ausentes na Coluna reviews_per_month\u001b[0;30m\n",
            "\n",
            "3514 valores ausentes.\n",
            "\n",
            "\u001b[1;30mQuantidade de Dados Ausentes na Coluna last_review\u001b[0;30m\n",
            "\n",
            "3514 valores ausentes.\n"
          ],
          "name": "stdout"
        }
      ]
    },
    {
      "cell_type": "markdown",
      "metadata": {
        "id": "Tan1z5730EYX"
      },
      "source": [
        "Verificando os dados ausentes em cada coluna."
      ]
    },
    {
      "cell_type": "code",
      "metadata": {
        "colab": {
          "base_uri": "https://localhost:8080/",
          "height": 309
        },
        "id": "VgcAAVYJ0GXW",
        "outputId": "62f8b39e-264e-4fb2-9318-cad6aba2c698"
      },
      "source": [
        "df.loc[pd.isna(df.name)].head()"
      ],
      "execution_count": 69,
      "outputs": [
        {
          "output_type": "execute_result",
          "data": {
            "text/html": [
              "<div>\n",
              "<style scoped>\n",
              "    .dataframe tbody tr th:only-of-type {\n",
              "        vertical-align: middle;\n",
              "    }\n",
              "\n",
              "    .dataframe tbody tr th {\n",
              "        vertical-align: top;\n",
              "    }\n",
              "\n",
              "    .dataframe thead th {\n",
              "        text-align: right;\n",
              "    }\n",
              "</style>\n",
              "<table border=\"1\" class=\"dataframe\">\n",
              "  <thead>\n",
              "    <tr style=\"text-align: right;\">\n",
              "      <th></th>\n",
              "      <th>id</th>\n",
              "      <th>name</th>\n",
              "      <th>host_id</th>\n",
              "      <th>host_name</th>\n",
              "      <th>neighbourhood_group</th>\n",
              "      <th>neighbourhood</th>\n",
              "      <th>latitude</th>\n",
              "      <th>longitude</th>\n",
              "      <th>room_type</th>\n",
              "      <th>price</th>\n",
              "      <th>minimum_nights</th>\n",
              "      <th>number_of_reviews</th>\n",
              "      <th>last_review</th>\n",
              "      <th>reviews_per_month</th>\n",
              "      <th>calculated_host_listings_count</th>\n",
              "      <th>availability_365</th>\n",
              "    </tr>\n",
              "  </thead>\n",
              "  <tbody>\n",
              "    <tr>\n",
              "      <th>1292</th>\n",
              "      <td>2988197</td>\n",
              "      <td>NaN</td>\n",
              "      <td>15237172</td>\n",
              "      <td>Rita</td>\n",
              "      <td>Lisboa</td>\n",
              "      <td>Avenidas Novas</td>\n",
              "      <td>38.72943</td>\n",
              "      <td>-9.15714</td>\n",
              "      <td>Entire home/apt</td>\n",
              "      <td>200</td>\n",
              "      <td>1</td>\n",
              "      <td>0</td>\n",
              "      <td>NaN</td>\n",
              "      <td>NaN</td>\n",
              "      <td>1</td>\n",
              "      <td>365</td>\n",
              "    </tr>\n",
              "    <tr>\n",
              "      <th>1334</th>\n",
              "      <td>3049237</td>\n",
              "      <td>NaN</td>\n",
              "      <td>15020890</td>\n",
              "      <td>Carla</td>\n",
              "      <td>Lisboa</td>\n",
              "      <td>Areeiro</td>\n",
              "      <td>38.73841</td>\n",
              "      <td>-9.13445</td>\n",
              "      <td>Shared room</td>\n",
              "      <td>145</td>\n",
              "      <td>1</td>\n",
              "      <td>0</td>\n",
              "      <td>NaN</td>\n",
              "      <td>NaN</td>\n",
              "      <td>2</td>\n",
              "      <td>365</td>\n",
              "    </tr>\n",
              "    <tr>\n",
              "      <th>1335</th>\n",
              "      <td>3049375</td>\n",
              "      <td>NaN</td>\n",
              "      <td>15020890</td>\n",
              "      <td>Carla</td>\n",
              "      <td>Lisboa</td>\n",
              "      <td>Arroios</td>\n",
              "      <td>38.73691</td>\n",
              "      <td>-9.13406</td>\n",
              "      <td>Private room</td>\n",
              "      <td>289</td>\n",
              "      <td>1</td>\n",
              "      <td>0</td>\n",
              "      <td>NaN</td>\n",
              "      <td>NaN</td>\n",
              "      <td>2</td>\n",
              "      <td>365</td>\n",
              "    </tr>\n",
              "    <tr>\n",
              "      <th>1357</th>\n",
              "      <td>3079140</td>\n",
              "      <td>NaN</td>\n",
              "      <td>15011587</td>\n",
              "      <td>Nuno</td>\n",
              "      <td>Lisboa</td>\n",
              "      <td>So Domingos de Benfica</td>\n",
              "      <td>38.74406</td>\n",
              "      <td>-9.17445</td>\n",
              "      <td>Entire home/apt</td>\n",
              "      <td>650</td>\n",
              "      <td>1</td>\n",
              "      <td>0</td>\n",
              "      <td>NaN</td>\n",
              "      <td>NaN</td>\n",
              "      <td>1</td>\n",
              "      <td>365</td>\n",
              "    </tr>\n",
              "    <tr>\n",
              "      <th>1392</th>\n",
              "      <td>3118028</td>\n",
              "      <td>NaN</td>\n",
              "      <td>15843103</td>\n",
              "      <td>Natalia</td>\n",
              "      <td>Lisboa</td>\n",
              "      <td>Benfica</td>\n",
              "      <td>38.75280</td>\n",
              "      <td>-9.19561</td>\n",
              "      <td>Entire home/apt</td>\n",
              "      <td>700</td>\n",
              "      <td>1</td>\n",
              "      <td>0</td>\n",
              "      <td>NaN</td>\n",
              "      <td>NaN</td>\n",
              "      <td>1</td>\n",
              "      <td>365</td>\n",
              "    </tr>\n",
              "  </tbody>\n",
              "</table>\n",
              "</div>"
            ],
            "text/plain": [
              "           id name  ...  calculated_host_listings_count availability_365\n",
              "1292  2988197  NaN  ...                               1              365\n",
              "1334  3049237  NaN  ...                               2              365\n",
              "1335  3049375  NaN  ...                               2              365\n",
              "1357  3079140  NaN  ...                               1              365\n",
              "1392  3118028  NaN  ...                               1              365\n",
              "\n",
              "[5 rows x 16 columns]"
            ]
          },
          "metadata": {
            "tags": []
          },
          "execution_count": 69
        }
      ]
    },
    {
      "cell_type": "markdown",
      "metadata": {
        "id": "QGbj2Ofa6or2"
      },
      "source": [
        "Olhando a tabela com coluna `name` igual a NaN, podemos vericar que:\n",
        "  * Os dados ausentes na coluna `name` podem signicar que são clientes novos cadastrados, retiram seu cadastro do site ou apenas esqueceram que de preencher este campo no cadastro. ***Não influenciam em nossa análise***"
      ]
    },
    {
      "cell_type": "code",
      "metadata": {
        "colab": {
          "base_uri": "https://localhost:8080/"
        },
        "id": "haMzKnic3ULT",
        "outputId": "ea100cf3-9ed2-48e9-d6b5-c534fa35bddc"
      },
      "source": [
        "# analisando se os valores ausentes sao da mesma entrada\n",
        "\n",
        "condicao = (pd.isna(df.reviews_per_month)) & (pd.isna(df.last_review))\n",
        "print(f'A condição de valores nulos para coluna review_per_month e last_review apresenta {df.loc[condicao].id.value_counts().sum()} valores, \\\n",
        "ou seja, os valores ausentes das duas colunas estão interligados.\\n')\n",
        "\n",
        "df[['last_review', 'reviews_per_month']].loc[condicao].isnull().sum()"
      ],
      "execution_count": 83,
      "outputs": [
        {
          "output_type": "stream",
          "text": [
            "A condição de valores nulos para coluna review_per_month e last_review apresenta 3514 valores, ou seja, os valores ausentes das duas colunas estão interligados.\n",
            "\n"
          ],
          "name": "stdout"
        },
        {
          "output_type": "execute_result",
          "data": {
            "text/plain": [
              "last_review          3514\n",
              "reviews_per_month    3514\n",
              "dtype: int64"
            ]
          },
          "metadata": {
            "tags": []
          },
          "execution_count": 83
        }
      ]
    },
    {
      "cell_type": "code",
      "metadata": {
        "colab": {
          "base_uri": "https://localhost:8080/"
        },
        "id": "naJUcnk-5qpt",
        "outputId": "c54c794f-6ec4-4351-fe4e-0dd2f647e58e"
      },
      "source": [
        "# Verificando se as colunas ausentes em last_review e reviews_per_month possuem number_of_reviews igual a 0\n",
        "print('Verificando se as colunas ausentes em last_review e reviews_per_month possuem number_of_reviews igual a 0\\n')\n",
        "df[['number_of_reviews','last_review', 'reviews_per_month']].loc[pd.isna(df.last_review) & (df.number_of_reviews == 0)].isnull().sum()"
      ],
      "execution_count": 86,
      "outputs": [
        {
          "output_type": "stream",
          "text": [
            "Verificando se as colunas ausentes em last_review e reviews_per_month possuem number_of_reviews igual a 0\n",
            "\n"
          ],
          "name": "stdout"
        },
        {
          "output_type": "execute_result",
          "data": {
            "text/plain": [
              "number_of_reviews       0\n",
              "last_review          3514\n",
              "reviews_per_month    3514\n",
              "dtype: int64"
            ]
          },
          "metadata": {
            "tags": []
          },
          "execution_count": 86
        }
      ]
    },
    {
      "cell_type": "markdown",
      "metadata": {
        "id": "VRxZVY2b3VbT"
      },
      "source": [
        "Olhando os resultados acima, podemos vericar que:\n",
        "  * E os dados ausentes nas colunas `reviews_per_month` e `last_review est` estão interligados uma vez que as mesmas variáveis possuem valores ausentes e isso se deve ao fato de não possuirem review, então consequentemente elas serão ausentes. ***Não influenciam em nossa análise***"
      ]
    },
    {
      "cell_type": "markdown",
      "metadata": {
        "id": "iHXvvHIxaoNc"
      },
      "source": [
        "### **Q3. Qual o tipo de distribuição das variáveis?** \n",
        "\n",
        "A fim de identificar a Distribuição das variáveis númericas, irei plotar gráficos de distribuições de cada coluna."
      ]
    },
    {
      "cell_type": "code",
      "metadata": {
        "id": "q2wWSfeRbmBo",
        "colab": {
          "base_uri": "https://localhost:8080/",
          "height": 607
        },
        "outputId": "6bd3f906-065a-4c52-aac3-844621f45d25"
      },
      "source": [
        "# plotar o histograma das variáveis numéricas (Tirando id, host_id, latitude e longitude)\n",
        "lista = ['availability_365', 'calculated_host_listings_count','reviews_per_month',\\\n",
        "    'number_of_reviews', 'minimum_nights', 'price']\n",
        "    \n",
        "df[lista].hist(grid=False, bins=15, figsize=(15,10));"
      ],
      "execution_count": 6,
      "outputs": [
        {
          "output_type": "display_data",
          "data": {
            "image/png": "[encoded data removed]",
            "text/plain": [
              "<Figure size 1080x720 with 6 Axes>"
            ]
          },
          "metadata": {
            "tags": [],
            "needs_background": "light"
          }
        }
      ]
    },
    {
      "cell_type": "markdown",
      "metadata": {
        "id": "e3wcHuRoG6bp"
      },
      "source": [
        "### **Q4. Há *outliers* presentes?**"
      ]
    },
    {
      "cell_type": "markdown",
      "metadata": {
        "id": "KwMiWQ7wGqG-"
      },
      "source": [
        "Pela distribuição acima é possível notar a presença de outliers em algumas colunas, por exemplo, as colunas `minimum_nights`, `price` e `calculated_host_listings_count`.\n",
        "\n",
        "Estes valores fogem da normalidade e podem (e provavelmente irão) causar anomalias nos resultados obtidos em nossa análise. Para confirmar presença de tais valores, podemos utilizar duas maneiras que auxiliam a detecção dos tais *outliers*. São elas:\n",
        "\n",
        "* Resumo estatístico por meio do método `describe()` em Python.\n",
        "* Visualização de gráficos `boxplots` para a variável com o módulo Seaborn."
      ]
    },
    {
      "cell_type": "code",
      "metadata": {
        "colab": {
          "base_uri": "https://localhost:8080/",
          "height": 297
        },
        "id": "gDYhEENTJnHd",
        "outputId": "e5e41330-f49b-4e4c-e5a7-3e65f15bc9d3"
      },
      "source": [
        "# Resumo Estatísticos das Variáveis Númericas \n",
        "df[lista].describe().round(2)"
      ],
      "execution_count": 7,
      "outputs": [
        {
          "output_type": "execute_result",
          "data": {
            "text/html": [
              "<div>\n",
              "<style scoped>\n",
              "    .dataframe tbody tr th:only-of-type {\n",
              "        vertical-align: middle;\n",
              "    }\n",
              "\n",
              "    .dataframe tbody tr th {\n",
              "        vertical-align: top;\n",
              "    }\n",
              "\n",
              "    .dataframe thead th {\n",
              "        text-align: right;\n",
              "    }\n",
              "</style>\n",
              "<table border=\"1\" class=\"dataframe\">\n",
              "  <thead>\n",
              "    <tr style=\"text-align: right;\">\n",
              "      <th></th>\n",
              "      <th>availability_365</th>\n",
              "      <th>calculated_host_listings_count</th>\n",
              "      <th>reviews_per_month</th>\n",
              "      <th>number_of_reviews</th>\n",
              "      <th>minimum_nights</th>\n",
              "      <th>price</th>\n",
              "    </tr>\n",
              "  </thead>\n",
              "  <tbody>\n",
              "    <tr>\n",
              "      <th>count</th>\n",
              "      <td>20141.00</td>\n",
              "      <td>20141.00</td>\n",
              "      <td>16627.00</td>\n",
              "      <td>20141.00</td>\n",
              "      <td>20141.00</td>\n",
              "      <td>20141.00</td>\n",
              "    </tr>\n",
              "    <tr>\n",
              "      <th>mean</th>\n",
              "      <td>214.36</td>\n",
              "      <td>13.58</td>\n",
              "      <td>1.23</td>\n",
              "      <td>43.26</td>\n",
              "      <td>3.70</td>\n",
              "      <td>103.15</td>\n",
              "    </tr>\n",
              "    <tr>\n",
              "      <th>std</th>\n",
              "      <td>143.07</td>\n",
              "      <td>37.53</td>\n",
              "      <td>1.33</td>\n",
              "      <td>68.30</td>\n",
              "      <td>18.16</td>\n",
              "      <td>332.98</td>\n",
              "    </tr>\n",
              "    <tr>\n",
              "      <th>min</th>\n",
              "      <td>0.00</td>\n",
              "      <td>1.00</td>\n",
              "      <td>0.01</td>\n",
              "      <td>0.00</td>\n",
              "      <td>1.00</td>\n",
              "      <td>0.00</td>\n",
              "    </tr>\n",
              "    <tr>\n",
              "      <th>25%</th>\n",
              "      <td>76.00</td>\n",
              "      <td>1.00</td>\n",
              "      <td>0.26</td>\n",
              "      <td>2.00</td>\n",
              "      <td>1.00</td>\n",
              "      <td>45.00</td>\n",
              "    </tr>\n",
              "    <tr>\n",
              "      <th>50%</th>\n",
              "      <td>262.00</td>\n",
              "      <td>3.00</td>\n",
              "      <td>0.78</td>\n",
              "      <td>13.00</td>\n",
              "      <td>2.00</td>\n",
              "      <td>66.00</td>\n",
              "    </tr>\n",
              "    <tr>\n",
              "      <th>75%</th>\n",
              "      <td>356.00</td>\n",
              "      <td>10.00</td>\n",
              "      <td>1.83</td>\n",
              "      <td>56.00</td>\n",
              "      <td>3.00</td>\n",
              "      <td>100.00</td>\n",
              "    </tr>\n",
              "    <tr>\n",
              "      <th>max</th>\n",
              "      <td>365.00</td>\n",
              "      <td>288.00</td>\n",
              "      <td>43.64</td>\n",
              "      <td>797.00</td>\n",
              "      <td>1000.00</td>\n",
              "      <td>19988.00</td>\n",
              "    </tr>\n",
              "  </tbody>\n",
              "</table>\n",
              "</div>"
            ],
            "text/plain": [
              "       availability_365  ...     price\n",
              "count          20141.00  ...  20141.00\n",
              "mean             214.36  ...    103.15\n",
              "std              143.07  ...    332.98\n",
              "min                0.00  ...      0.00\n",
              "25%               76.00  ...     45.00\n",
              "50%              262.00  ...     66.00\n",
              "75%              356.00  ...    100.00\n",
              "max              365.00  ...  19988.00\n",
              "\n",
              "[8 rows x 6 columns]"
            ]
          },
          "metadata": {
            "tags": []
          },
          "execution_count": 7
        }
      ]
    },
    {
      "cell_type": "markdown",
      "metadata": {
        "id": "qKCLY8y7HFSr"
      },
      "source": [
        "Olhando o resumo estatístico acima, podemos ter alguns insights sobre valores outiliers ou fora do escopo neste dataset:\n",
        "\n",
        "* A variável `price` possui 75% do valor abaixo de € 100.00 , porém seu valor máximo é € 19988.00.\n",
        "* A variável `price` possui alguns valores como € 0.00 , que pode significar diversas coisas e deveriam ser analisados com mais calma.\n",
        "* A quantidade máxima de mínimas noites (`minimum_nights`) é igual a 1000 noites como quantidade mínima de estadia, ou seja, maior que 365 dias (1 ano). O que não faz sentido para um comércio eletrônico de casas cuja média de mínimas noites são aproximadamente 3 dias.\n",
        "* O valor máximo da varável `reviews_per_month` é igual a 43.64 e valor mínimo igual a 0.01 o que faz com necessitamos de algumas investigações no entendimento do porque este valor supera o número de dias em um mês.\n",
        "  * Clientes demorando mais de um mês em suas avaliações?\n",
        "  * Porque estes valores não são inteiros? Realmente representa o número de avaliações por mês ou uma média?\n",
        "* O valor máximo da coluna `calculated_host_listings_count` é de 288, ou seja, alguns anfitriões possuem um número muito grande casas para aluguel sem que a mediana deste campo é aproximadamente 3. Estes dados necessitaria de um entendimento maior ou a eliminação destes outliers uma vez que os mesmo estão elevando o valor da média em cerca de 300% acima da mediana (que é um valor mais próximo da média da maioria dos dados."
      ]
    },
    {
      "cell_type": "markdown",
      "metadata": {
        "id": "ucJp8sCsCGqH"
      },
      "source": [
        "#### Coluna Price\n",
        "  * Considerando que valores de **€ 0.00** em tese não devem fazer parte do preço de uma casa para aluguel. Vamos verificar a quantidade de valores com esta condição\n",
        "  * Considerando que mais de **75%** dos preços estão de **€ 100.00**, vamos avaliar a quantidade de valores acima de **€ 1250.00** levando em conta que este valor pode ser considerado para casas luxuosas"
      ]
    },
    {
      "cell_type": "code",
      "metadata": {
        "colab": {
          "base_uri": "https://localhost:8080/"
        },
        "id": "XL41IvGae3UP",
        "outputId": "b373d532-32c7-44b6-8efc-3101c48ff8c7"
      },
      "source": [
        "# Verificando a quantidade de valores da Coluna price iguais a 0\n",
        "\n",
        "print('\\033[1;30mPrice: valores iguais a € 0.00\\033[0;30m\\n')\n",
        "print(f'{len(df.price.loc[df.price == 0])} entrada\\n')\n",
        "index = df.price.loc[df.price == 0].index.tolist()\n",
        "print(f'Seu(s) index(es) é / são {index}.')\n",
        "\n",
        "# Verificando a quantidade de valores acima de € 2000.00 (Considerando este valor para casas de luxo por exemplo)\n",
        "print(f'\\n\\033[1;30mPrice: valores acima de € 1250.00\\033[0;30m\\n')\n",
        "print(f'{len(df.price.loc[df.price > 1250])} entradas')\n",
        "print(f'{(len(df.price.loc[df.price > 1250]) / df.shape[0])*100:.4f} % das entradas estão acima do valor acima')"
      ],
      "execution_count": 8,
      "outputs": [
        {
          "output_type": "stream",
          "text": [
            "\u001b[1;30mPrice: valores iguais a € 0.00\u001b[0;30m\n",
            "\n",
            "1 entrada\n",
            "\n",
            "Seu(s) index(es) é / são [19025].\n",
            "\n",
            "\u001b[1;30mPrice: valores acima de € 1250.00\u001b[0;30m\n",
            "\n",
            "53 entradas\n",
            "0.2631 % das entradas estão acima do valor acima\n"
          ],
          "name": "stdout"
        }
      ]
    },
    {
      "cell_type": "markdown",
      "metadata": {
        "id": "LJDrDmgW_h0L"
      },
      "source": [
        "##### Boxplot para price"
      ]
    },
    {
      "cell_type": "code",
      "metadata": {
        "colab": {
          "base_uri": "https://localhost:8080/",
          "height": 224
        },
        "id": "6-tSaf2v-omM",
        "outputId": "f96635e8-da16-4811-fb51-335e63db0d39"
      },
      "source": [
        "# Price\n",
        "plt.figure(figsize=(15, 3))\n",
        "sns.boxplot(x = 'price', data = df);"
      ],
      "execution_count": 87,
      "outputs": [
        {
          "output_type": "display_data",
          "data": {
            "image/png": "[encoded data removed]",
            "text/plain": [
              "<Figure size 1080x216 with 1 Axes>"
            ]
          },
          "metadata": {
            "tags": [],
            "needs_background": "light"
          }
        }
      ]
    },
    {
      "cell_type": "markdown",
      "metadata": {
        "id": "Tpt6xabdCZP3"
      },
      "source": [
        "#### Coluna minimum_nights\n",
        "\n",
        "  * Uma vez que em média pessoas têm **30 dias** de férias e o Airbnb não é uma plataforma voltada para alugueis de longa temporada vamos verificar a quantidade de valores acima de **30 dias** como **mínimo de noites** e ver seu gráfico boxplot com a presença dos outliers"
      ]
    },
    {
      "cell_type": "code",
      "metadata": {
        "colab": {
          "base_uri": "https://localhost:8080/"
        },
        "id": "drJi5eNTBDRH",
        "outputId": "8338420f-4002-4e67-f30e-85872b359bca"
      },
      "source": [
        "# Verificando a quantidade de valores acima de 30 dias para minimum_nights\n",
        "print(f'\\n\\033[1;30mMinimum Nights: valores acima de 30 dias\\033[0;30m\\n')\n",
        "print(f'{len(df.minimum_nights.loc[df.minimum_nights > 30])} entradas')\n",
        "print(f'{(len(df.price.loc[df.minimum_nights > 30]) / df.shape[0])*100:.4f} % das entradas estão acima do valor acima')"
      ],
      "execution_count": 10,
      "outputs": [
        {
          "output_type": "stream",
          "text": [
            "\n",
            "\u001b[1;30mMinimum Nights: valores acima de 30 dias\u001b[0;30m\n",
            "\n",
            "102 entradas\n",
            "0.5064 % das entradas estão acima do valor acima\n"
          ],
          "name": "stdout"
        }
      ]
    },
    {
      "cell_type": "markdown",
      "metadata": {
        "id": "YhChT4U9ETWd"
      },
      "source": [
        "##### Boxplot para Minimum Nights"
      ]
    },
    {
      "cell_type": "code",
      "metadata": {
        "colab": {
          "base_uri": "https://localhost:8080/",
          "height": 226
        },
        "id": "4MzYVldNe2rx",
        "outputId": "fb84c23d-92a1-4b69-c9e9-807b60aca7f1"
      },
      "source": [
        "# Minimum Nights\n",
        "plt.figure(figsize=(15, 3))\n",
        "sns.boxplot(x = 'minimum_nights', data = df);"
      ],
      "execution_count": 88,
      "outputs": [
        {
          "output_type": "display_data",
          "data": {
            "image/png": "[encoded data removed]",
            "text/plain": [
              "<Figure size 1080x216 with 1 Axes>"
            ]
          },
          "metadata": {
            "tags": [],
            "needs_background": "light"
          }
        }
      ]
    },
    {
      "cell_type": "markdown",
      "metadata": {
        "id": "roZrW1JZFqx0"
      },
      "source": [
        "#### Coluna calculated_host_listings_count\n",
        "  * Uma vez que temos em sua grande maioria, no airbnb, anfitriões que são pessoas comuns, ou seja, pessoas que não possuem um grande portifolio de casas para alugar. Vamos considerar que no máximo poderia ser possuir **15 casas** para aluguel no Airbnb. Vamos verificar quantos valores se encontram nesta condição."
      ]
    },
    {
      "cell_type": "code",
      "metadata": {
        "colab": {
          "base_uri": "https://localhost:8080/"
        },
        "id": "I62eCBTrFs0A",
        "outputId": "75429b07-4e9c-402d-c608-6bf7dbaf4b69"
      },
      "source": [
        "# Verificando a quantidade de valores acima de 15 casa para calculated_host_listings_count\n",
        "print(f'\\n\\033[1;30mCalculated Host Listings Count: valores acima de 15 casas\\033[0;30m\\n')\n",
        "print(f'{len(df.calculated_host_listings_count.loc[df.calculated_host_listings_count > 15])} entradas')\n",
        "print(f'{(len(df.price.loc[df.calculated_host_listings_count > 15]) / df.shape[0])*100:.4f} % das entradas estão acima do valor acima')"
      ],
      "execution_count": 12,
      "outputs": [
        {
          "output_type": "stream",
          "text": [
            "\n",
            "\u001b[1;30mCalculated Host Listings Count: valores acima de 15 casas\u001b[0;30m\n",
            "\n",
            "3289 entradas\n",
            "16.3299 % das entradas estão acima do valor acima\n"
          ],
          "name": "stdout"
        }
      ]
    },
    {
      "cell_type": "markdown",
      "metadata": {
        "id": "9a2am0uPFvvy"
      },
      "source": [
        "##### Boxplot para calculated_host_listings_count"
      ]
    },
    {
      "cell_type": "code",
      "metadata": {
        "colab": {
          "base_uri": "https://localhost:8080/",
          "height": 226
        },
        "id": "rIgbGix5FtH4",
        "outputId": "458b1bb3-82ea-4e38-e4ef-7c308d4cece5"
      },
      "source": [
        "# calculated_host_listings_count\n",
        "plt.figure(figsize=(15, 3))\n",
        "sns.boxplot(x = 'calculated_host_listings_count', data = df);"
      ],
      "execution_count": 13,
      "outputs": [
        {
          "output_type": "display_data",
          "data": {
            "image/png": "[encoded data removed]",
            "text/plain": [
              "<Figure size 1080x216 with 1 Axes>"
            ]
          },
          "metadata": {
            "tags": [],
            "needs_background": "light"
          }
        }
      ]
    },
    {
      "cell_type": "markdown",
      "metadata": {
        "id": "2aPcNzorJVoj"
      },
      "source": [
        "#### Histogramas sem *outliers*\n",
        "\n",
        "Uma vez identificados os *outliers* nas variáveis `price`, `minimum_nigths` e `calculated_host_listings_count`. Vamos retirar estes valores do *Dataset*  e plotar o histograma novamente para ver a distribuição dos novos dados e verificar se necessita de mais ajustes."
      ]
    },
    {
      "cell_type": "code",
      "metadata": {
        "colab": {
          "base_uri": "https://localhost:8080/",
          "height": 658
        },
        "id": "-4_flRdHKV7h",
        "outputId": "94b5158b-6aa8-4bf0-bbd0-83c1c7bd99ca"
      },
      "source": [
        "# Criando uma cópia do Dataframe original para remover os outliers\n",
        "df_clean = df.copy()\n",
        "\n",
        "# Removendo valores com price 0 por index\n",
        "#df_clean = df_clean[df_clean.price != 0]\n",
        "df_clean.drop(df_clean[df_clean.price == 0].index, axis=0, inplace=True)\n",
        "\n",
        "# Removendo Valores de Price acima de 1250\n",
        "df_clean.drop(df_clean[df_clean.price > 1250].index, axis=0, inplace=True)\n",
        "\n",
        "# Removendo Valores para Minimum Nights acima de 30\n",
        "df_clean.drop(df_clean[df_clean.minimum_nights > 30].index, axis=0, inplace=True)\n",
        "\n",
        "# Removendo Valores para Minimum Nights acima de 30\n",
        "df_clean.drop(df_clean[df_clean.calculated_host_listings_count > 15].index, axis=0, inplace=True)\n",
        "\n",
        "# Plotando Novo Histograma para variáveis Númericas\n",
        "df_clean[lista].hist(grid=False, bins=15, figsize=(15,10));\n",
        "\n",
        "# Calculando a porcentagem de valores removidos em relação ao Dataset original\n",
        "perc_valores_removidos = ((1 - df_clean.index.value_counts().sum()/df.index.value_counts().sum()))*100\n",
        "print(f'\\n \\033[1;30mForam removidos {perc_valores_removidos:.2f} % de entradas em relação aos valores originais.\\033[0;30m\\n')"
      ],
      "execution_count": 14,
      "outputs": [
        {
          "output_type": "stream",
          "text": [
            "\n",
            " \u001b[1;30mForam removidos 17.08 % de entradas em relação aos valores originais.\u001b[0;30m\n",
            "\n"
          ],
          "name": "stdout"
        },
        {
          "output_type": "display_data",
          "data": {
            "image/png": "[encoded data removed]",
            "text/plain": [
              "<Figure size 1080x720 with 6 Axes>"
            ]
          },
          "metadata": {
            "tags": [],
            "needs_background": "light"
          }
        }
      ]
    },
    {
      "cell_type": "markdown",
      "metadata": {
        "id": "7x4aw1j5wNmn"
      },
      "source": [
        "### **Q5. Qual a média dos preços de aluguel?**\n",
        "\n",
        "Após a limpeza dos *outliers* teremos um valor mais 'real' em relação a média de preços das casas dispostas no Airbnb de Lisboa.\n"
      ]
    },
    {
      "cell_type": "code",
      "metadata": {
        "id": "ff-8gUahLk-C",
        "colab": {
          "base_uri": "https://localhost:8080/"
        },
        "outputId": "409fcea9-91a0-42dc-99f2-e00b9b29f980"
      },
      "source": [
        "# ver a média da coluna `price``\n",
        "print(f'A média de preços no novo Dataset é \\033[1;32m€ {df_clean.price.mean():.2f}\\033[0;30m comparado aos \\033[1;31m€ {df.price.mean():.2f}\\033[0;30m do Dataset Original.')"
      ],
      "execution_count": 15,
      "outputs": [
        {
          "output_type": "stream",
          "text": [
            "A média de preços no novo Dataset é \u001b[1;32m€ 88.90\u001b[0;30m comparado aos \u001b[1;31m€ 103.15\u001b[0;30m do Dataset Original.\n"
          ],
          "name": "stdout"
        }
      ]
    },
    {
      "cell_type": "markdown",
      "metadata": {
        "id": "IXn2oIo5qx-w"
      },
      "source": [
        "### **Q6. Qual a correlação existente entre as variáveis**\n",
        "Ao correlacionar duas variáveis, buscamos entender a relação entre elas seja ela positiva ou negativa. No contexto deste caso estamos buscando essa relação de semelhança, ou seja, uma correlação positiva entre duas variáveis do nosso Dataset.\n",
        "\n",
        "Podemos medir esta correlação através da função de correlação presente em Python e depois podemos avaliar a intensidade destas correlações através de um gráfico. Para isso vamos fazer:\n",
        "  * Criar uma Matriz de correlação com os dados númericos de interesse\n",
        "  * Gerar um *Heatmap* a partir dessa matriz, usando a biblioteca `Seaborn`"
      ]
    },
    {
      "cell_type": "code",
      "metadata": {
        "id": "x2ayzBajqxyd",
        "colab": {
          "base_uri": "https://localhost:8080/",
          "height": 235
        },
        "outputId": "3cf3067d-3879-40af-f5f7-0243362a9ee0"
      },
      "source": [
        "# criar uma matriz de correlação onde 'lista'equivale as variáveis númericas de nosso interesse\n",
        "correlacao = df_clean[lista].corr()\n",
        "\n",
        "# mostrar a matriz de correlação\n",
        "display(correlacao)"
      ],
      "execution_count": 16,
      "outputs": [
        {
          "output_type": "display_data",
          "data": {
            "text/html": [
              "<div>\n",
              "<style scoped>\n",
              "    .dataframe tbody tr th:only-of-type {\n",
              "        vertical-align: middle;\n",
              "    }\n",
              "\n",
              "    .dataframe tbody tr th {\n",
              "        vertical-align: top;\n",
              "    }\n",
              "\n",
              "    .dataframe thead th {\n",
              "        text-align: right;\n",
              "    }\n",
              "</style>\n",
              "<table border=\"1\" class=\"dataframe\">\n",
              "  <thead>\n",
              "    <tr style=\"text-align: right;\">\n",
              "      <th></th>\n",
              "      <th>availability_365</th>\n",
              "      <th>calculated_host_listings_count</th>\n",
              "      <th>reviews_per_month</th>\n",
              "      <th>number_of_reviews</th>\n",
              "      <th>minimum_nights</th>\n",
              "      <th>price</th>\n",
              "    </tr>\n",
              "  </thead>\n",
              "  <tbody>\n",
              "    <tr>\n",
              "      <th>availability_365</th>\n",
              "      <td>1.000000</td>\n",
              "      <td>0.007841</td>\n",
              "      <td>-0.023202</td>\n",
              "      <td>-0.014437</td>\n",
              "      <td>-0.028015</td>\n",
              "      <td>0.023029</td>\n",
              "    </tr>\n",
              "    <tr>\n",
              "      <th>calculated_host_listings_count</th>\n",
              "      <td>0.007841</td>\n",
              "      <td>1.000000</td>\n",
              "      <td>-0.029721</td>\n",
              "      <td>-0.068098</td>\n",
              "      <td>-0.039566</td>\n",
              "      <td>-0.008745</td>\n",
              "    </tr>\n",
              "    <tr>\n",
              "      <th>reviews_per_month</th>\n",
              "      <td>-0.023202</td>\n",
              "      <td>-0.029721</td>\n",
              "      <td>1.000000</td>\n",
              "      <td>0.785514</td>\n",
              "      <td>-0.088046</td>\n",
              "      <td>-0.150065</td>\n",
              "    </tr>\n",
              "    <tr>\n",
              "      <th>number_of_reviews</th>\n",
              "      <td>-0.014437</td>\n",
              "      <td>-0.068098</td>\n",
              "      <td>0.785514</td>\n",
              "      <td>1.000000</td>\n",
              "      <td>-0.050733</td>\n",
              "      <td>-0.135132</td>\n",
              "    </tr>\n",
              "    <tr>\n",
              "      <th>minimum_nights</th>\n",
              "      <td>-0.028015</td>\n",
              "      <td>-0.039566</td>\n",
              "      <td>-0.088046</td>\n",
              "      <td>-0.050733</td>\n",
              "      <td>1.000000</td>\n",
              "      <td>-0.012846</td>\n",
              "    </tr>\n",
              "    <tr>\n",
              "      <th>price</th>\n",
              "      <td>0.023029</td>\n",
              "      <td>-0.008745</td>\n",
              "      <td>-0.150065</td>\n",
              "      <td>-0.135132</td>\n",
              "      <td>-0.012846</td>\n",
              "      <td>1.000000</td>\n",
              "    </tr>\n",
              "  </tbody>\n",
              "</table>\n",
              "</div>"
            ],
            "text/plain": [
              "                                availability_365  ...     price\n",
              "availability_365                        1.000000  ...  0.023029\n",
              "calculated_host_listings_count          0.007841  ... -0.008745\n",
              "reviews_per_month                      -0.023202  ... -0.150065\n",
              "number_of_reviews                      -0.014437  ... -0.135132\n",
              "minimum_nights                         -0.028015  ... -0.012846\n",
              "price                                   0.023029  ...  1.000000\n",
              "\n",
              "[6 rows x 6 columns]"
            ]
          },
          "metadata": {
            "tags": []
          }
        }
      ]
    },
    {
      "cell_type": "code",
      "metadata": {
        "id": "91UujDr6ueqE",
        "colab": {
          "base_uri": "https://localhost:8080/",
          "height": 838
        },
        "outputId": "236ecdba-585f-4e14-a20f-7b82a6441ede"
      },
      "source": [
        "# plotando um gráfico heatmap a partir da matriz de correlações\n",
        "\n",
        "# Tamanho da Figura\n",
        "plt.figure(figsize=(13,13))\n",
        "\n",
        "# Titulo\n",
        "plt.title(\"Gráfico Heatmap da matriz de correlações das nossas variáveis numéricas\\n\", fontsize=14, fontweight=\"bold\")\n",
        "\n",
        "# Gráfico Heatmap\n",
        "sns.heatmap(data=correlacao, cmap='RdBu', fmt='.2f', square=True, linecolor='white',annot=True);\n"
      ],
      "execution_count": 17,
      "outputs": [
        {
          "output_type": "display_data",
          "data": {
            "image/png": "[encoded data removed]",
            "text/plain": [
              "<Figure size 936x936 with 2 Axes>"
            ]
          },
          "metadata": {
            "tags": [],
            "needs_background": "light"
          }
        }
      ]
    },
    {
      "cell_type": "markdown",
      "metadata": {
        "id": "Kk72AqwCzZhV"
      },
      "source": [
        "Correlação, **Pearson's r** ou somente **r** serve para quantificar a relação entre duas variáveis.\n",
        "\n",
        "Podemos verificar acima que os campos númericos em sua grande maioria apresentam uma correlação quase nula entre eles, com exceção de dois campos `number_of_reviews` e `reviews_per_month`que apresentam uma correlação de 0,78 na escala Pearson o que pode ser considerada bastante alta.\n",
        "\n",
        "Como correlação não indica casualidade, vamos determinar o **Coeficiente de Determinação (rˆ2)** = Porcentagem da variação em y explicada pela variação em x, ou seja, a variação em  `number_of_reviews` explicada pela variação em `reviews_per_month`.\n",
        "\n",
        "Primeiro vamos verificar o gráfico de dispersão destas duas variáveis e depois determinar o coeficiente de determinação."
      ]
    },
    {
      "cell_type": "code",
      "metadata": {
        "colab": {
          "base_uri": "https://localhost:8080/",
          "height": 280
        },
        "id": "VagwE_J81ars",
        "outputId": "eb609072-e7ee-449f-a04b-0253421a7884"
      },
      "source": [
        "# determinando o gráfico de dispersão entre as variáveis number_of_reviews e reviews_per_month\n",
        "sns.regplot(x=df_clean['number_of_reviews'], y=df_clean['number_of_reviews']);"
      ],
      "execution_count": 28,
      "outputs": [
        {
          "output_type": "display_data",
          "data": {
            "image/png": "[encoded data removed]",
            "text/plain": [
              "<Figure size 432x288 with 1 Axes>"
            ]
          },
          "metadata": {
            "tags": [],
            "needs_background": "light"
          }
        }
      ]
    },
    {
      "cell_type": "markdown",
      "metadata": {
        "id": "NGjAzTjZ2TZ5"
      },
      "source": [
        "Podemos vericar a força da correlação já que onde todos ou quase todas as distribuições encontram-se na reta determina pela reta de uma função do 1º grau e temos também uma correlação positiva."
      ]
    },
    {
      "cell_type": "code",
      "metadata": {
        "colab": {
          "base_uri": "https://localhost:8080/"
        },
        "id": "8LXJrukm2RvD",
        "outputId": "36380cdd-8460-4973-cbe3-71e714ddf911"
      },
      "source": [
        "# calculando o coeficiente de determinação\n",
        "cof_determinacao = (100*(correlacao.loc['number_of_reviews']['reviews_per_month'] ** 2)).round(2)\n",
        "print(f\"Cerca de \\033[1;31m{cof_determinacao}%\\033[0;30m da variação da variável \\033[1;30m'reviews_per_month'\\033[0;30m pode ser explicada pela variável \\033[1;30m'number_of_reviews'\\033[0;30m.\")"
      ],
      "execution_count": 37,
      "outputs": [
        {
          "output_type": "stream",
          "text": [
            "Cerca de \u001b[1;31m61.7%\u001b[0;30m da variação da variável \u001b[1;30m'reviews_per_month'\u001b[0;30m pode ser explicada pela variável \u001b[1;30m'number_of_reviews'\u001b[0;30m.\n"
          ],
          "name": "stdout"
        }
      ]
    },
    {
      "cell_type": "markdown",
      "metadata": {
        "id": "7b6RMWpuHKN-"
      },
      "source": [
        "### **Q7. Qual o tipo de imóvel mais alugado no Airbnb?**\n",
        "A coluna `room_type` nos indica o tipo de locação que está anunciada no Airbnb. Em geral existem três tipos de opções:\n",
        " * Apartamento / Casas Inteiras = `Entire home/apt`\n",
        " * Aluguel de um Quarto em uma casa com a presença do Anfitrião na Casa = `Private room`\n",
        " * Quarto de Hotéis / Pousadas = `Hotel room`\n",
        " * Dividir um Quarto com uma outra pessoa qualquer = `Shared room`\n",
        "\n",
        "Usaremos o método `value_counts` para determinar a quantidade de cada tipo de aluguel presente em nosso dataset."
      ]
    },
    {
      "cell_type": "code",
      "metadata": {
        "id": "ueLPNWvPHgfB",
        "colab": {
          "base_uri": "https://localhost:8080/"
        },
        "outputId": "4e24a369-a37d-485c-fd84-25b956cd726d"
      },
      "source": [
        "# mostrar a quantidade de cada tipo de imóvel disponível\n",
        "print(f'\\n\\033[1;30mQuantidade de cada tipo de Aluguel presentes em Lisboa\\033[0;30m\\n')\n",
        "df_clean.room_type.value_counts()"
      ],
      "execution_count": 18,
      "outputs": [
        {
          "output_type": "stream",
          "text": [
            "\n",
            "\u001b[1;30mQuantidade de cada tipo de Aluguel presentes em Lisboa\u001b[0;30m\n",
            "\n"
          ],
          "name": "stdout"
        },
        {
          "output_type": "execute_result",
          "data": {
            "text/plain": [
              "Entire home/apt    12204\n",
              "Private room        3833\n",
              "Hotel room           376\n",
              "Shared room          288\n",
              "Name: room_type, dtype: int64"
            ]
          },
          "metadata": {
            "tags": []
          },
          "execution_count": 18
        }
      ]
    },
    {
      "cell_type": "code",
      "metadata": {
        "id": "EvwoO-XAHhIm",
        "colab": {
          "base_uri": "https://localhost:8080/"
        },
        "outputId": "48cf3f9e-4616-403f-ca94-b6698f77b7c6"
      },
      "source": [
        "# mostrar a porcentagem de cada tipo de imóvel disponível\n",
        "print(f'\\n\\033[1;30mPorcentagem de cada tipo de Aluguel presentes em Lisboa\\033[0;30m\\n')\n",
        "(100*df_clean.room_type.value_counts() / df_clean.room_type.value_counts().sum()).round(2)"
      ],
      "execution_count": 19,
      "outputs": [
        {
          "output_type": "stream",
          "text": [
            "\n",
            "\u001b[1;30mPorcentagem de cada tipo de Aluguel presentes em Lisboa\u001b[0;30m\n",
            "\n"
          ],
          "name": "stdout"
        },
        {
          "output_type": "execute_result",
          "data": {
            "text/plain": [
              "Entire home/apt    73.07\n",
              "Private room       22.95\n",
              "Hotel room          2.25\n",
              "Shared room         1.72\n",
              "Name: room_type, dtype: float64"
            ]
          },
          "metadata": {
            "tags": []
          },
          "execution_count": 19
        }
      ]
    },
    {
      "cell_type": "markdown",
      "metadata": {
        "id": "dCAGiWfwbtHY"
      },
      "source": [
        "* Acima podemos verificar que mais de *70%* dos aluguéis da cidade de Lisboa são de Casas ou Apartamentos Inteiros.\n",
        "* Cerca de *20%* dos aluguéis são para Quartos Privados e apenas 4% está distribuído entre Quarto de Hotel e Quarto Dividido."
      ]
    },
    {
      "cell_type": "markdown",
      "metadata": {
        "id": "MFa5NbnLJMcd"
      },
      "source": [
        "### **Q8. Qual a localidade mais cara do dataset?**\n",
        "Usaremos o método `groupby`a fim de agrupar todos os bairros (`neighbourhood`) da cidade de Lisboa e verificar em média qual deles é o mais caro.\n",
        "\n"
      ]
    },
    {
      "cell_type": "code",
      "metadata": {
        "id": "MD_xa143JZpi",
        "colab": {
          "base_uri": "https://localhost:8080/"
        },
        "outputId": "e1c56dd6-3413-455f-b9bb-1494760ce353"
      },
      "source": [
        "# ver preços dos 10 bairros mais caros, na média\n",
        "print(f'\\n\\033[1;30mPreços dos 10 bairros mais caros, na média em Lisboa\\033[0;30m\\n')\n",
        "df_clean.groupby(['neighbourhood']).price.mean().sort_values(ascending=False)[0:10].round(2)"
      ],
      "execution_count": 20,
      "outputs": [
        {
          "output_type": "stream",
          "text": [
            "\n",
            "\u001b[1;30mPreços dos 10 bairros mais caros, na média em Lisboa\u001b[0;30m\n",
            "\n"
          ],
          "name": "stdout"
        },
        {
          "output_type": "execute_result",
          "data": {
            "text/plain": [
              "neighbourhood\n",
              "Azambuja                                    317.50\n",
              "Freiria                                     290.00\n",
              "Cardosas                                    280.00\n",
              "Ota                                         249.00\n",
              "Vermelha                                    242.50\n",
              "Alguber                                     220.00\n",
              "Alhandra, So Joo dos Montes e Calhandriz    218.89\n",
              "Aveiras de Baixo                            213.00\n",
              "Vale do Paraso                              201.00\n",
              "Bucelas                                     179.22\n",
              "Name: price, dtype: float64"
            ]
          },
          "metadata": {
            "tags": []
          },
          "execution_count": 20
        }
      ]
    },
    {
      "cell_type": "code",
      "metadata": {
        "colab": {
          "base_uri": "https://localhost:8080/"
        },
        "id": "J5Io5dVJ-nRl",
        "outputId": "0f76c562-2c04-431c-e80b-1b1666e497de"
      },
      "source": [
        "print(f'\\n\\033[1;30m10 Bairros com mais imóveis em Lisboa\\033[0;30m\\n')\n",
        "df_clean.groupby(['neighbourhood']).id.count().sort_values(ascending=False)[0:10]"
      ],
      "execution_count": 21,
      "outputs": [
        {
          "output_type": "stream",
          "text": [
            "\n",
            "\u001b[1;30m10 Bairros com mais imóveis em Lisboa\u001b[0;30m\n",
            "\n"
          ],
          "name": "stdout"
        },
        {
          "output_type": "execute_result",
          "data": {
            "text/plain": [
              "neighbourhood\n",
              "Santa Maria Maior                                    2550\n",
              "Misericrdia                                          1827\n",
              "Arroios                                              1424\n",
              "Cascais e Estoril                                    1121\n",
              "So Vicente                                           1003\n",
              "Santo Antnio                                          925\n",
              "Estrela                                               697\n",
              "Ericeira                                              648\n",
              "S.Maria, S.Miguel, S.Martinho, S.Pedro Penaferrim     493\n",
              "Avenidas Novas                                        468\n",
              "Name: id, dtype: int64"
            ]
          },
          "metadata": {
            "tags": []
          },
          "execution_count": 21
        }
      ]
    },
    {
      "cell_type": "markdown",
      "metadata": {
        "id": "o_iAyI5nfpvJ"
      },
      "source": [
        "Apesar do tamanho de Lisboa, acima não podemos verificar alguns bairros bem conhecidos e/ou próximos ao centro de Lisboa, como por exemplo:\n",
        "\n",
        "  * Santa Maria Maior\n",
        "  * Misericórdia\n",
        "  * Cascais e Estoril\n",
        "  * Arroios\n",
        "  * São Vicente\n",
        "\n",
        "Os bairros mais caros encontram-se afastados do centro de Lisboa o que nos faz pensar na quantidade casas para alugar que estes lugarem têm. Se forem poucas seria um motivo para elevar a média de preços.\n",
        "\n",
        "<center><b>Mapa de Lisboa com os Bairros marcados</b></center>\n",
        "\n",
        "<center><img alt=\"Mapa Lisboa\" src='https://drive.google.com/uc?id=1fKae0CG2u0YPIb21bQ0KDFTJVQzjaEcS'></center>\n",
        "\n"
      ]
    },
    {
      "cell_type": "code",
      "metadata": {
        "colab": {
          "base_uri": "https://localhost:8080/"
        },
        "id": "dBgxIb6J35hp",
        "outputId": "f7cb7de6-3259-4875-fbcb-e73f20be66aa"
      },
      "source": [
        "lista_bairros_caros = df_clean.groupby(['neighbourhood']).price.mean().sort_values(ascending=False)[0:10].index.values.tolist()\n",
        "lista_bairros_qntd = df_clean.groupby(['neighbourhood']).id.count().sort_values(ascending=False)[0:10].index.values.tolist()\n",
        "\n",
        "print('-' * 80)\n",
        "title = 'Listagem de Quantidade de Imóveis nos Bairos mais caros de Lisboa'\n",
        "print(title.center(80))\n",
        "print('-' * 80)\n",
        "\n",
        "for b in lista_bairros_caros:\n",
        "  print(f' {b:.<65}', end='')\n",
        "  print(f' \\033[0;31m{df_clean[df_clean.neighbourhood == b].shape[0]:>4}\\033[0;30m imóveis')\n",
        "print('-' * 80)\n",
        "\n",
        "print()\n",
        "\n",
        "print('-' * 80)\n",
        "title = 'Listagem das maiores quantidades de Imóveis nos Bairos de Lisboa'\n",
        "print(title.center(80))\n",
        "print('-' * 80)\n",
        "\n",
        "for c in lista_bairros_qntd:\n",
        "  print(f' {c:.<65}', end='')\n",
        "  print(f' \\033[0;31m{df_clean[df_clean.neighbourhood == c].shape[0]:>4}\\033[0;30m imóveis')\n",
        "print('-' * 80)\n",
        "  "
      ],
      "execution_count": 22,
      "outputs": [
        {
          "output_type": "stream",
          "text": [
            "--------------------------------------------------------------------------------\n",
            "       Listagem de Quantidade de Imóveis nos Bairos mais caros de Lisboa        \n",
            "--------------------------------------------------------------------------------\n",
            " Azambuja......................................................... \u001b[0;31m   2\u001b[0;30m imóveis\n",
            " Freiria.......................................................... \u001b[0;31m   2\u001b[0;30m imóveis\n",
            " Cardosas......................................................... \u001b[0;31m   1\u001b[0;30m imóveis\n",
            " Ota.............................................................. \u001b[0;31m   1\u001b[0;30m imóveis\n",
            " Vermelha......................................................... \u001b[0;31m   2\u001b[0;30m imóveis\n",
            " Alguber.......................................................... \u001b[0;31m   1\u001b[0;30m imóveis\n",
            " Alhandra, So Joo dos Montes e Calhandriz......................... \u001b[0;31m   9\u001b[0;30m imóveis\n",
            " Aveiras de Baixo................................................. \u001b[0;31m   3\u001b[0;30m imóveis\n",
            " Vale do Paraso................................................... \u001b[0;31m   1\u001b[0;30m imóveis\n",
            " Bucelas.......................................................... \u001b[0;31m   9\u001b[0;30m imóveis\n",
            "--------------------------------------------------------------------------------\n",
            "\n",
            "--------------------------------------------------------------------------------\n",
            "        Listagem das maiores quantidades de Imóveis nos Bairos de Lisboa        \n",
            "--------------------------------------------------------------------------------\n",
            " Santa Maria Maior................................................ \u001b[0;31m2550\u001b[0;30m imóveis\n",
            " Misericrdia...................................................... \u001b[0;31m1827\u001b[0;30m imóveis\n",
            " Arroios.......................................................... \u001b[0;31m1424\u001b[0;30m imóveis\n",
            " Cascais e Estoril................................................ \u001b[0;31m1121\u001b[0;30m imóveis\n",
            " So Vicente....................................................... \u001b[0;31m1003\u001b[0;30m imóveis\n",
            " Santo Antnio..................................................... \u001b[0;31m 925\u001b[0;30m imóveis\n",
            " Estrela.......................................................... \u001b[0;31m 697\u001b[0;30m imóveis\n",
            " Ericeira......................................................... \u001b[0;31m 648\u001b[0;30m imóveis\n",
            " S.Maria, S.Miguel, S.Martinho, S.Pedro Penaferrim................ \u001b[0;31m 493\u001b[0;30m imóveis\n",
            " Avenidas Novas................................................... \u001b[0;31m 468\u001b[0;30m imóveis\n",
            "--------------------------------------------------------------------------------\n"
          ],
          "name": "stdout"
        }
      ]
    },
    {
      "cell_type": "markdown",
      "metadata": {
        "id": "ilIctQNX9U01"
      },
      "source": [
        "Como podemos verificar acima os Bairros mais 'caros' em média apresentam apresentam uma quantidade de imóvel muito pequena quando comparado a outros bairros como *Santa Maria Maior*, *Misericórdia*, *Arrois*, *Cascais e Estoril* entre outros.\n",
        "\n",
        "Vamos calcular a abaixo a média de preço dos 10 bairros com maior quantidade de imóveis em Lisboa."
      ]
    },
    {
      "cell_type": "code",
      "metadata": {
        "colab": {
          "base_uri": "https://localhost:8080/"
        },
        "id": "N24hQTQvCri3",
        "outputId": "6f42dfef-ab7e-4a60-adf7-53bc237a1447"
      },
      "source": [
        "print(f'\\n\\033[1;30mMédia de Preços dos 10 bairros com mais imóveis em Lisboa\\033[0;30m\\n')\n",
        "preco_med_qntd = df_clean.loc[df_clean.neighbourhood.isin(lista_bairros_qntd)].groupby(['neighbourhood']).price.mean().sort_values(ascending=False)[0:10].round(2)\n",
        "preco_med_qntd"
      ],
      "execution_count": 23,
      "outputs": [
        {
          "output_type": "stream",
          "text": [
            "\n",
            "\u001b[1;30mMédia de Preços dos 10 bairros com mais imóveis em Lisboa\u001b[0;30m\n",
            "\n"
          ],
          "name": "stdout"
        },
        {
          "output_type": "execute_result",
          "data": {
            "text/plain": [
              "neighbourhood\n",
              "Cascais e Estoril                                    120.01\n",
              "S.Maria, S.Miguel, S.Martinho, S.Pedro Penaferrim    119.03\n",
              "Ericeira                                              95.69\n",
              "Misericrdia                                           90.59\n",
              "Santo Antnio                                          89.75\n",
              "Santa Maria Maior                                     87.16\n",
              "Avenidas Novas                                        79.61\n",
              "Estrela                                               78.47\n",
              "Arroios                                               74.49\n",
              "So Vicente                                            74.15\n",
              "Name: price, dtype: float64"
            ]
          },
          "metadata": {
            "tags": []
          },
          "execution_count": 23
        }
      ]
    },
    {
      "cell_type": "code",
      "metadata": {
        "colab": {
          "base_uri": "https://localhost:8080/"
        },
        "id": "JVlO6J9VF0J1",
        "outputId": "a005d11e-63b9-4343-d0eb-a12b21172930"
      },
      "source": [
        "print(f'\\n\\033[1;30mPorcentagem do preço em relação a média de preços em Lisboa\\033[0;30m\\n')\n",
        "(100*(preco_med_qntd - df_clean.price.mean())/preco_med_qntd).round(2)"
      ],
      "execution_count": 24,
      "outputs": [
        {
          "output_type": "stream",
          "text": [
            "\n",
            "\u001b[1;30mPorcentagem do preço em relação a média de preços em Lisboa\u001b[0;30m\n",
            "\n"
          ],
          "name": "stdout"
        },
        {
          "output_type": "execute_result",
          "data": {
            "text/plain": [
              "neighbourhood\n",
              "Cascais e Estoril                                    25.93\n",
              "S.Maria, S.Miguel, S.Martinho, S.Pedro Penaferrim    25.32\n",
              "Ericeira                                              7.10\n",
              "Misericrdia                                           1.87\n",
              "Santo Antnio                                          0.95\n",
              "Santa Maria Maior                                    -1.99\n",
              "Avenidas Novas                                      -11.67\n",
              "Estrela                                             -13.29\n",
              "Arroios                                             -19.34\n",
              "So Vicente                                          -19.89\n",
              "Name: price, dtype: float64"
            ]
          },
          "metadata": {
            "tags": []
          },
          "execution_count": 24
        }
      ]
    },
    {
      "cell_type": "markdown",
      "metadata": {
        "id": "pa2zYHqxEmWy"
      },
      "source": [
        "* Acima podemos vericar que Cascais e Estoril apresentam uma média de preço acima das demais já que as mesma são bairros mais afastados de Lisboa e bastante turísticos cerca de **25% mais caro** o aluguel.\n",
        "* Já São Vicente pode ser considerado quase **20% mais barato** em relação ao preço médio dos aluguéis em Lisboa."
      ]
    },
    {
      "cell_type": "markdown",
      "metadata": {
        "id": "kmn038Z4HIOm"
      },
      "source": [
        "Com a Latitude e Longitude podemos plotar um gráfico mostrando a distribuição destes pontos em um gráfico Scatter Plot."
      ]
    },
    {
      "cell_type": "code",
      "metadata": {
        "id": "UxVJqJ_3W59I",
        "colab": {
          "base_uri": "https://localhost:8080/",
          "height": 469
        },
        "outputId": "d46881c7-57f0-4083-a0ff-3bc2ae32e1c2"
      },
      "source": [
        "# plotar os imóveis pela latitude-longitude\n",
        "df_clean.plot(kind=\"scatter\", x='longitude', y='latitude', alpha=0.4, c=df_clean['price'], s=8,\n",
        "              cmap=plt.get_cmap('jet'), figsize=(12,8));"
      ],
      "execution_count": 25,
      "outputs": [
        {
          "output_type": "display_data",
          "data": {
            "image/png": "[encoded data removed]",
            "text/plain": [
              "<Figure size 864x576 with 2 Axes>"
            ]
          },
          "metadata": {
            "tags": [],
            "needs_background": "light"
          }
        }
      ]
    },
    {
      "cell_type": "markdown",
      "metadata": {
        "id": "IgQElDYgGzJe"
      },
      "source": [
        "* Acima podemos ver uma grande concentração de imóveis na região litorânea de Lisboa bem como perto do seu centro."
      ]
    },
    {
      "cell_type": "markdown",
      "metadata": {
        "id": "vTneAMRUYvr1"
      },
      "source": [
        "### **Q9. Qual é a média do mínimo de noites para aluguel (minimum_nights)?**"
      ]
    },
    {
      "cell_type": "code",
      "metadata": {
        "id": "_VzNhrEgY82N",
        "colab": {
          "base_uri": "https://localhost:8080/"
        },
        "outputId": "e21228d8-723c-4a52-8a78-e4e20eafe6a4"
      },
      "source": [
        "# ver a média da coluna `minimum_nights`\n",
        "print(f'A média de aluguel mínimo no novo Dataset é \\033[1;32m{df_clean.minimum_nights.mean():.2f} noites \\033[0;30m.')"
      ],
      "execution_count": 26,
      "outputs": [
        {
          "output_type": "stream",
          "text": [
            "A média de aluguel mínimo no novo Dataset é \u001b[1;32m3.02 noites \u001b[0;30m.\n"
          ],
          "name": "stdout"
        }
      ]
    },
    {
      "cell_type": "markdown",
      "metadata": {
        "id": "GkvAg623RjoR"
      },
      "source": [
        "## Conclusões\n"
      ]
    },
    {
      "cell_type": "markdown",
      "metadata": {
        "id": "rbZ3Hsy9Ypw8"
      },
      "source": [
        "Através deste Dataset podemos tirar alguns pequenos insights e observar alguns outliers que podem distorcer análises estatísticas futuras.\n",
        "\n",
        "Algumas incompatibilidades em relação a alguns dados também podem influenciar em análises futuras, como por exemplo, a coluna `reviews_per_month` nos apresenta valores Reais o que me faz questionar se são realmente quantidade de avaliações ou uma média. Outra a ser citada também é fato de alguns bairros apresentarem uma média de preços maiores que outros. Estes dados devem ser melhor tratados.\n",
        "\n",
        "Apesar deste ser um Dataset resumido, podemos tirar algumas informações importantes como por exemplo:\n",
        "  * A média de Mínimas Noites de aluguel equivale 3 noites, ou seja subentende-se que os anfitriões dão preferência ao aluguel de Fim-de-Semana.\n",
        "  * Podemos ver uma correlação quase entre a maioria das variáveis númericas do nosso dataset. Entretantando as variáveis `number_of_reviews` e `reviews_per_month` apresentam uma correlação muito forte onde cerca de 62% das variáveis em `reviews_per_month` se relacionam com as variáveis `number_of_reviews` o que é extremamente natural já que elas teoricamente estão interligadas.\n",
        "  * Grande parte dos imóveis disponíveis para aluguel encontram-se em regiões litorâneas e/ou próximo ao centro de Lisboa.\n",
        "  * Dos 10 bairros com mais imóveis para locação, *São Vicente* poderia ser considerada a melhor opção para um turista uma vez que ele poderá se encontrar próximo ao centro com um preço de quase 20% menos em relação a média total.\n",
        "  * Os bairros com média mais caras encontram-se bem afastados do centro de Lisboa e apresentam menos de 4 imóveis em média para locação\n",
        "  * Mais de 70% dos imóveis disponíveis para locação em Lisboa são de imóveis inteiros, ou seja, os clientes que queiram um aluguel mais reservado poderão encontrar isso em Lisboa.\n",
        "  * A quantidade de imóveis por anfitrião em Lisboa é de 3 imóveis, ou seja, grande parte dos anfitrões podem ser considerados pessoas comuns e não empresas com uma grande quantide de imóveis em seu portfílio para locação.\n",
        "\n",
        "Mesmo sendo possível obter alguns insights com o Dataset resumido, o ideal seria ter um melhor entendimento utilizando a versão mais completa fornecida pelo Airbnb, entretando este conjunto de Dados já nos oferece uma idéia inicial de abordagem. \n",
        "\n",
        "\n"
      ]
    }
  ]
}